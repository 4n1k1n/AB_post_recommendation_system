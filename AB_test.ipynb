{
 "cells": [
  {
   "cell_type": "markdown",
   "id": "47043289-1598-46fa-ac47-df8d90321d62",
   "metadata": {},
   "source": [
    "# A/B-тест: новая система рекомендации постов\n",
    "\n",
    "В данном случае, пользователи уже разделены на группы, сроки эксперимента определены, поэтому необходимо только проверить есть ли статистически значимые различие между группами.\n",
    "\n",
    "Даты:\n",
    "\n",
    "A/A-тест: с 23-02-2024 по 29-02-2024\n",
    "\n",
    "A/B-тест: с 01-03-2024 по 07-03-2024\n",
    "\n",
    "Экспермент проводился на пользователях в группах 1 и 2:\n",
    "- группа 1 использовалась в качестве контроля;\n",
    "- на группа 2 использован один из новых алгоритмов рекомендации постов.\n",
    "\n",
    "**Методы анализа**\n",
    "\n",
    "В ознакомиетльных целях проведем анализ различными способами:\n",
    "\n",
    "- t-тест,\n",
    "- Пуассоновский бутстреп,\n",
    "- тест Манна-Уитни,\n",
    "- t-тест на сглаженном ctr (α=5)\n",
    "- t-тест и тест Манна-Уитни поверх бакетного преобразования"
   ]
  },
  {
   "cell_type": "markdown",
   "id": "a3baa353-224d-472e-b145-12767a4e38a8",
   "metadata": {},
   "source": [
    "## 1. А/А тест\n",
    "\n",
    "Проверим корректность системы сплитования.\n",
    "\n",
    "Есть данные А/А-теста с 23-02-2024 по 29-02-2024. Сделаем симуляцию, как будто мы провели 10000 А/А-тестов. На каждой итерации сформируем подвыборки без повторения в 500 юзеров из 1 и 2 экспериментальной группы. Проведем сравнение этих подвыборок t-testом.\n",
    "\n",
    "**Задачи:**\n",
    "\n",
    "1. Построить гистограмму распределения получившихся 10000 p-values.\n",
    "\n",
    "2. Посчитать, какой процент p values оказался меньше либо равен 0.05\n",
    "\n",
    "3. Написать вывод по проведенному А/А-тесту, корректно ли работает наша система сплитования. При выполнении задания также важно обосновать и аргументировать ваш вывод."
   ]
  },
  {
   "cell_type": "code",
   "execution_count": 52,
   "id": "1e078f93-996a-4576-a218-10f4e7d49481",
   "metadata": {},
   "outputs": [],
   "source": [
    "from dotenv import load_dotenv\n",
    "import os\n",
    "\n",
    "import pandas as pd\n",
    "import numpy as np\n",
    "import pandahouse\n",
    "import hashlib\n",
    "import scipy.stats as stats\n",
    "from statsmodels.stats.api import CompareMeans, DescrStatsW\n",
    "\n",
    "import matplotlib.pyplot as plt\n",
    "import seaborn as sns\n",
    "sns.set(rc={'figure.figsize':(11.7,8.27)})"
   ]
  },
  {
   "cell_type": "markdown",
   "id": "85e35220-f221-416c-bc42-612154d0a141",
   "metadata": {},
   "source": [
    "### Выгрузим данные\n",
    "\n",
    "**Подключимся к clickhouse, отберем пользователей с 23-02-2024 по 29-02-2024 и посчиатаем для каждого CTR**"
   ]
  },
  {
   "cell_type": "code",
   "execution_count": 4,
   "id": "0f908afd-0732-4db1-adab-1256ca5b4468",
   "metadata": {},
   "outputs": [],
   "source": [
    "# подключаемся к clickhouse\n",
    "load_dotenv()\n",
    "connection = {\n",
    "    'host': 'https://' + os.getenv('DB_HOST'),\n",
    "    'password': os.getenv('DB_PASSWORD'),\n",
    "    'user': os.getenv('DB_USER'),\n",
    "    'database': os.getenv('DB_NAME')\n",
    "}\n",
    "# SQL запрос: отберем пользователей с '2024-02-23' по '2024-02-29' и посчиатаем для каждого CTR\n",
    "q = '''\n",
    "SELECT\n",
    "    exp_group,\n",
    "    user_id,\n",
    "    SUM(action = 'like') AS likes,\n",
    "    SUM(action = 'view') AS views,\n",
    "    likes / views AS ctr\n",
    "FROM\n",
    "    {db}.feed_actions\n",
    "WHERE\n",
    "    toDate(time) between '2024-02-23' AND '2024-02-29'\n",
    "    AND exp_group IN (1, 2)\n",
    "GROUP BY\n",
    "    exp_group, user_id\n",
    "'''\n",
    "\n",
    "# Отобрали пользователей\n",
    "aa_test = pandahouse.read_clickhouse(q, connection=connection)"
   ]
  },
  {
   "cell_type": "code",
   "execution_count": 5,
   "id": "31d217ba-f501-42b5-8687-c57a56c714f7",
   "metadata": {},
   "outputs": [],
   "source": [
    "# Данная выгрузка сохранена как aa_test.csv\n",
    "\n",
    "# aa_test.to_csv('aa_test.csv', index=False)\n",
    "# aa_test = pd.read_csv('aa_test.csv')"
   ]
  },
  {
   "cell_type": "code",
   "execution_count": 15,
   "id": "1afe35bf-ed40-4f88-9a1a-c90dc132a058",
   "metadata": {},
   "outputs": [
    {
     "data": {
      "text/html": [
       "<div>\n",
       "<style scoped>\n",
       "    .dataframe tbody tr th:only-of-type {\n",
       "        vertical-align: middle;\n",
       "    }\n",
       "\n",
       "    .dataframe tbody tr th {\n",
       "        vertical-align: top;\n",
       "    }\n",
       "\n",
       "    .dataframe thead th {\n",
       "        text-align: right;\n",
       "    }\n",
       "</style>\n",
       "<table border=\"1\" class=\"dataframe\">\n",
       "  <thead>\n",
       "    <tr style=\"text-align: right;\">\n",
       "      <th></th>\n",
       "      <th>exp_group</th>\n",
       "      <th>user_id</th>\n",
       "      <th>likes</th>\n",
       "      <th>views</th>\n",
       "      <th>ctr</th>\n",
       "    </tr>\n",
       "  </thead>\n",
       "  <tbody>\n",
       "    <tr>\n",
       "      <th>0</th>\n",
       "      <td>1</td>\n",
       "      <td>109963</td>\n",
       "      <td>10</td>\n",
       "      <td>34</td>\n",
       "      <td>0.294118</td>\n",
       "    </tr>\n",
       "    <tr>\n",
       "      <th>1</th>\n",
       "      <td>1</td>\n",
       "      <td>18392</td>\n",
       "      <td>13</td>\n",
       "      <td>56</td>\n",
       "      <td>0.232143</td>\n",
       "    </tr>\n",
       "    <tr>\n",
       "      <th>2</th>\n",
       "      <td>2</td>\n",
       "      <td>131473</td>\n",
       "      <td>19</td>\n",
       "      <td>98</td>\n",
       "      <td>0.193878</td>\n",
       "    </tr>\n",
       "    <tr>\n",
       "      <th>3</th>\n",
       "      <td>2</td>\n",
       "      <td>23985</td>\n",
       "      <td>12</td>\n",
       "      <td>44</td>\n",
       "      <td>0.272727</td>\n",
       "    </tr>\n",
       "    <tr>\n",
       "      <th>4</th>\n",
       "      <td>2</td>\n",
       "      <td>24523</td>\n",
       "      <td>2</td>\n",
       "      <td>10</td>\n",
       "      <td>0.200000</td>\n",
       "    </tr>\n",
       "  </tbody>\n",
       "</table>\n",
       "</div>"
      ],
      "text/plain": [
       "   exp_group  user_id  likes  views       ctr\n",
       "0          1   109963     10     34  0.294118\n",
       "1          1    18392     13     56  0.232143\n",
       "2          2   131473     19     98  0.193878\n",
       "3          2    23985     12     44  0.272727\n",
       "4          2    24523      2     10  0.200000"
      ]
     },
     "execution_count": 15,
     "metadata": {},
     "output_type": "execute_result"
    }
   ],
   "source": [
    "aa_test.head()"
   ]
  },
  {
   "cell_type": "code",
   "execution_count": 9,
   "id": "0f038600-a37c-4f7a-a756-159e9db45a0e",
   "metadata": {},
   "outputs": [
    {
     "data": {
      "text/html": [
       "<div>\n",
       "<style scoped>\n",
       "    .dataframe tbody tr th:only-of-type {\n",
       "        vertical-align: middle;\n",
       "    }\n",
       "\n",
       "    .dataframe tbody tr th {\n",
       "        vertical-align: top;\n",
       "    }\n",
       "\n",
       "    .dataframe thead th {\n",
       "        text-align: right;\n",
       "    }\n",
       "</style>\n",
       "<table border=\"1\" class=\"dataframe\">\n",
       "  <thead>\n",
       "    <tr style=\"text-align: right;\">\n",
       "      <th></th>\n",
       "      <th>exp_group</th>\n",
       "      <th>user_id</th>\n",
       "      <th>likes</th>\n",
       "      <th>views</th>\n",
       "      <th>ctr</th>\n",
       "    </tr>\n",
       "  </thead>\n",
       "  <tbody>\n",
       "    <tr>\n",
       "      <th>0</th>\n",
       "      <td>1</td>\n",
       "      <td>8491</td>\n",
       "      <td>8491</td>\n",
       "      <td>8491</td>\n",
       "      <td>8491</td>\n",
       "    </tr>\n",
       "    <tr>\n",
       "      <th>1</th>\n",
       "      <td>2</td>\n",
       "      <td>8362</td>\n",
       "      <td>8362</td>\n",
       "      <td>8362</td>\n",
       "      <td>8362</td>\n",
       "    </tr>\n",
       "  </tbody>\n",
       "</table>\n",
       "</div>"
      ],
      "text/plain": [
       "   exp_group  user_id  likes  views   ctr\n",
       "0          1     8491   8491   8491  8491\n",
       "1          2     8362   8362   8362  8362"
      ]
     },
     "execution_count": 9,
     "metadata": {},
     "output_type": "execute_result"
    }
   ],
   "source": [
    "# Количество пользователей в каждой группе\n",
    "aa_test.groupby('exp_group', as_index=False).count()"
   ]
  },
  {
   "cell_type": "markdown",
   "id": "e22f3cd6-0a15-43a7-901b-d76c92ffe27b",
   "metadata": {},
   "source": [
    "Пользователей в каждой группе практически равное количество"
   ]
  },
  {
   "cell_type": "code",
   "execution_count": 8,
   "id": "aa7f4591-2308-4a23-92f5-f3ea61ea8edf",
   "metadata": {},
   "outputs": [
    {
     "data": {
      "image/png": "[encoded data removed]",
      "text/plain": [
       "<Figure size 1170x827 with 1 Axes>"
      ]
     },
     "metadata": {},
     "output_type": "display_data"
    }
   ],
   "source": [
    "# Распределения CTR для каждой группы\n",
    "groups = sns.histplot(data=aa_test, \n",
    "                      x='ctr', \n",
    "                      hue='exp_group', \n",
    "                      palette = ['r', 'b'],\n",
    "                      alpha=0.5,\n",
    "                      kde=False)"
   ]
  },
  {
   "cell_type": "markdown",
   "id": "b57a3e8a-13b8-458b-939c-82762494d651",
   "metadata": {},
   "source": [
    "Визуально группы схожи"
   ]
  },
  {
   "cell_type": "markdown",
   "id": "14ceb1aa-f855-4814-b605-d55964c79268",
   "metadata": {},
   "source": [
    "### Симуляция АА теста"
   ]
  },
  {
   "cell_type": "code",
   "execution_count": 11,
   "id": "0d3c2ce8-94ab-4c50-a6a1-9a58bf03adf6",
   "metadata": {},
   "outputs": [],
   "source": [
    "def simaltion_AA (ctrs_group_1, ctrs_group_2, sample_length = 500, number_of_samples = 10000):\n",
    "    '''\n",
    "    Функция simaltion_AA:\n",
    "    Симуляция 10000 А/А-тестов. На каждой итерации формируется подвыборка без повторения в 500 юзеров из двух групп.\n",
    "    Проводятся сравнения этих подвыборок t-testом.\n",
    "    Выводятся:\n",
    "    1. Какой процент p-values оказался меньше либо равен 0.05\n",
    "    2. Гистограмма распределения получившихся 10000 p-values.\n",
    "    '''\n",
    "\n",
    "    samples_ctrs_group_1 = [ctrs_group_1.sample(sample_length).tolist() for i in range(number_of_samples)]\n",
    "    samples_ctrs_group_2 = [ctrs_group_2.sample(sample_length).tolist() for i in range(number_of_samples)]\n",
    "    \n",
    "    p_values = stats.ttest_ind(samples_ctrs_group_1,\n",
    "                               samples_ctrs_group_2,\n",
    "                               equal_var=False,\n",
    "                               axis=1)[1]\n",
    "    \n",
    "    sns.histplot(p_values)\n",
    "    \n",
    "    p = round((p_values[p_values <= 0.05].size / p_values.size) * 100, 2)\n",
    "    \n",
    "    print(f'Процент p-values меньше либо равных 0.05: {p}% \\n')"
   ]
  },
  {
   "cell_type": "code",
   "execution_count": 14,
   "id": "60b9bf5a-7dfc-4876-96fa-fcc3af68b9ab",
   "metadata": {},
   "outputs": [
    {
     "name": "stdout",
     "output_type": "stream",
     "text": [
      "Процент p-values меньше либо равных 0.05: 4.81% \n",
      "\n"
     ]
    },
    {
     "data": {
      "image/png": "[encoded data removed]",
      "text/plain": [
       "<Figure size 1170x827 with 1 Axes>"
      ]
     },
     "metadata": {},
     "output_type": "display_data"
    }
   ],
   "source": [
    "# Подготовим данные для функции и вызовем ее\n",
    "ctrs_group_1 = aa_test.query('exp_group == 1').ctr\n",
    "ctrs_group_2 = aa_test.query('exp_group == 2').ctr\n",
    "\n",
    "simaltion_AA(ctrs_group_1, ctrs_group_2, 500, 10000)"
   ]
  },
  {
   "cell_type": "markdown",
   "id": "c3fe913d-d6c3-4ee5-a19c-2a872bf6babb",
   "metadata": {},
   "source": [
    "### Вывод:\n",
    "\n",
    "1. Согласно полученной диаграмме, распределение получившихся p-values равномерно, вероятней всего наши выборки схожи.\n",
    "2. Процент p-values меньше либо равных 0.05: 4.8% (согласно последнему вызову функции). Соответственно, только в 4.82% случаев мы опровергнем нулевую гипотезу о равенстве выборок. Так как данное значение близко к p-value, веротнее всего выборки схожи.\n",
    "\n",
    "#### Делаем вывод, что система сплитования работает корректно и можно проводить А/В тест."
   ]
  },
  {
   "cell_type": "markdown",
   "id": "5b32e6f9-918f-4e6b-a48e-ad459b1d79d3",
   "metadata": {},
   "source": [
    "## 2. А/B-тест\n",
    "\n",
    "Проанализируем результаты эксперимента, который проводился вместе с командой дата сайентистов.\n",
    "\n",
    "Эксперимент проходил с 01-03-2024 по 07-03-2024 включительно."
   ]
  },
  {
   "cell_type": "markdown",
   "id": "211906aa-071a-48fd-b028-089ee0ae2814",
   "metadata": {},
   "source": [
    "#### Выгрузим данные\n",
    "\n",
    "Подключимся к clickhouse, отберем пользователей с 01-03-2024 по 07-03-2024 и посчиатаем для каждого CTR"
   ]
  },
  {
   "cell_type": "code",
   "execution_count": 17,
   "id": "65926fbc-146d-46fc-aaf2-a6bc18d3dafc",
   "metadata": {},
   "outputs": [],
   "source": [
    "# SQL запрос: отберем пользователей с  2024-03-01 по 2024-03-07 и посчиатаем для каждого CTR\n",
    "q = '''\n",
    "SELECT\n",
    "    exp_group,\n",
    "    user_id,\n",
    "    SUM(action = 'like') AS likes,\n",
    "    SUM(action = 'view') AS views,\n",
    "    likes / views AS ctr\n",
    "FROM\n",
    "    {db}.feed_actions\n",
    "WHERE\n",
    "    toDate(time) between '2024-03-01' AND '2024-03-07'\n",
    "    AND exp_group IN (1, 2)\n",
    "GROUP BY\n",
    "    exp_group, user_id\n",
    "'''\n",
    "\n",
    "# Отобрали пользователей\n",
    "ab_test = pandahouse.read_clickhouse(q, connection=connection)"
   ]
  },
  {
   "cell_type": "code",
   "execution_count": 20,
   "id": "37a49ef6-9092-4589-a52e-69447557b692",
   "metadata": {},
   "outputs": [],
   "source": [
    "# Данная выгрузка сохранена как ab_test.csv\n",
    "\n",
    "# ab_test.to_csv('ab_test.csv', index=False)\n",
    "# ab_test = pd.read_csv('ab_test.csv')"
   ]
  },
  {
   "cell_type": "code",
   "execution_count": 19,
   "id": "bfa99999-513b-4c04-bcb7-ccf41e96d035",
   "metadata": {},
   "outputs": [
    {
     "data": {
      "text/html": [
       "<div>\n",
       "<style scoped>\n",
       "    .dataframe tbody tr th:only-of-type {\n",
       "        vertical-align: middle;\n",
       "    }\n",
       "\n",
       "    .dataframe tbody tr th {\n",
       "        vertical-align: top;\n",
       "    }\n",
       "\n",
       "    .dataframe thead th {\n",
       "        text-align: right;\n",
       "    }\n",
       "</style>\n",
       "<table border=\"1\" class=\"dataframe\">\n",
       "  <thead>\n",
       "    <tr style=\"text-align: right;\">\n",
       "      <th></th>\n",
       "      <th>exp_group</th>\n",
       "      <th>user_id</th>\n",
       "      <th>likes</th>\n",
       "      <th>views</th>\n",
       "      <th>ctr</th>\n",
       "    </tr>\n",
       "  </thead>\n",
       "  <tbody>\n",
       "    <tr>\n",
       "      <th>0</th>\n",
       "      <td>1</td>\n",
       "      <td>109963</td>\n",
       "      <td>3</td>\n",
       "      <td>15</td>\n",
       "      <td>0.200000</td>\n",
       "    </tr>\n",
       "    <tr>\n",
       "      <th>1</th>\n",
       "      <td>1</td>\n",
       "      <td>26117</td>\n",
       "      <td>32</td>\n",
       "      <td>141</td>\n",
       "      <td>0.226950</td>\n",
       "    </tr>\n",
       "    <tr>\n",
       "      <th>2</th>\n",
       "      <td>1</td>\n",
       "      <td>138232</td>\n",
       "      <td>18</td>\n",
       "      <td>73</td>\n",
       "      <td>0.246575</td>\n",
       "    </tr>\n",
       "    <tr>\n",
       "      <th>3</th>\n",
       "      <td>1</td>\n",
       "      <td>26295</td>\n",
       "      <td>39</td>\n",
       "      <td>141</td>\n",
       "      <td>0.276596</td>\n",
       "    </tr>\n",
       "    <tr>\n",
       "      <th>4</th>\n",
       "      <td>1</td>\n",
       "      <td>18392</td>\n",
       "      <td>7</td>\n",
       "      <td>32</td>\n",
       "      <td>0.218750</td>\n",
       "    </tr>\n",
       "  </tbody>\n",
       "</table>\n",
       "</div>"
      ],
      "text/plain": [
       "   exp_group  user_id  likes  views       ctr\n",
       "0          1   109963      3     15  0.200000\n",
       "1          1    26117     32    141  0.226950\n",
       "2          1   138232     18     73  0.246575\n",
       "3          1    26295     39    141  0.276596\n",
       "4          1    18392      7     32  0.218750"
      ]
     },
     "execution_count": 19,
     "metadata": {},
     "output_type": "execute_result"
    }
   ],
   "source": [
    "ab_test.head()"
   ]
  },
  {
   "cell_type": "code",
   "execution_count": 23,
   "id": "b0b4cda8-0147-415a-b90a-0c47470d1fd9",
   "metadata": {},
   "outputs": [
    {
     "data": {
      "text/html": [
       "<div>\n",
       "<style scoped>\n",
       "    .dataframe tbody tr th:only-of-type {\n",
       "        vertical-align: middle;\n",
       "    }\n",
       "\n",
       "    .dataframe tbody tr th {\n",
       "        vertical-align: top;\n",
       "    }\n",
       "\n",
       "    .dataframe thead th {\n",
       "        text-align: right;\n",
       "    }\n",
       "</style>\n",
       "<table border=\"1\" class=\"dataframe\">\n",
       "  <thead>\n",
       "    <tr style=\"text-align: right;\">\n",
       "      <th></th>\n",
       "      <th>exp_group</th>\n",
       "      <th>user_id</th>\n",
       "      <th>likes</th>\n",
       "      <th>views</th>\n",
       "      <th>ctr</th>\n",
       "    </tr>\n",
       "  </thead>\n",
       "  <tbody>\n",
       "    <tr>\n",
       "      <th>0</th>\n",
       "      <td>1</td>\n",
       "      <td>10020</td>\n",
       "      <td>10020</td>\n",
       "      <td>10020</td>\n",
       "      <td>10020</td>\n",
       "    </tr>\n",
       "    <tr>\n",
       "      <th>1</th>\n",
       "      <td>2</td>\n",
       "      <td>9877</td>\n",
       "      <td>9877</td>\n",
       "      <td>9877</td>\n",
       "      <td>9877</td>\n",
       "    </tr>\n",
       "  </tbody>\n",
       "</table>\n",
       "</div>"
      ],
      "text/plain": [
       "   exp_group  user_id  likes  views    ctr\n",
       "0          1    10020  10020  10020  10020\n",
       "1          2     9877   9877   9877   9877"
      ]
     },
     "execution_count": 23,
     "metadata": {},
     "output_type": "execute_result"
    }
   ],
   "source": [
    "# Количество пользователей в каждой группе\n",
    "ab_test.groupby('exp_group', as_index=False).count()"
   ]
  },
  {
   "cell_type": "code",
   "execution_count": null,
   "id": "5a664ea6-ed1b-4b69-9464-ead12c164595",
   "metadata": {},
   "outputs": [],
   "source": []
  },
  {
   "cell_type": "code",
   "execution_count": null,
   "id": "033eb307-0a17-4ded-bd7f-db764a3adc3e",
   "metadata": {},
   "outputs": [],
   "source": []
  },
  {
   "cell_type": "code",
   "execution_count": null,
   "id": "1a0d84ee-69c8-421d-89c0-5047c0c2390a",
   "metadata": {},
   "outputs": [],
   "source": []
  },
  {
   "cell_type": "markdown",
   "id": "4c85a3a1-4229-4533-b98b-b92426deb419",
   "metadata": {},
   "source": [
    "Пользователей в каждой группе практически равное количество"
   ]
  },
  {
   "cell_type": "code",
   "execution_count": 24,
   "id": "e69daf6e-4d7a-43bd-8346-77a066285a24",
   "metadata": {},
   "outputs": [
    {
     "data": {
      "image/png": "[encoded data removed]",
      "text/plain": [
       "<Figure size 1170x827 with 1 Axes>"
      ]
     },
     "metadata": {},
     "output_type": "display_data"
    }
   ],
   "source": [
    "# Распределения CTR для каждой группы\n",
    "groups = sns.histplot(data=ab_test, \n",
    "                      x='ctr', \n",
    "                      hue='exp_group', \n",
    "                      palette = ['r', 'b'],\n",
    "                      alpha=0.5,\n",
    "                      kde=False)"
   ]
  },
  {
   "cell_type": "markdown",
   "id": "79a696fe-3dfa-41bb-81f9-504ed2a4ca1f",
   "metadata": {},
   "source": [
    "Экспериментальная группа 2 имеет ненормальное распределение."
   ]
  },
  {
   "cell_type": "code",
   "execution_count": 40,
   "id": "38761e83-810b-4e06-b720-e142c2cab317",
   "metadata": {},
   "outputs": [],
   "source": [
    "ab_group_1 = ab_test[ab_test.exp_group == 1]\n",
    "ab_group_2 = ab_test[ab_test.exp_group == 2]"
   ]
  },
  {
   "cell_type": "code",
   "execution_count": 42,
   "id": "868848de-1e35-4e1c-a0f9-35a17154ea2d",
   "metadata": {},
   "outputs": [
    {
     "data": {
      "text/html": [
       "<div>\n",
       "<style scoped>\n",
       "    .dataframe tbody tr th:only-of-type {\n",
       "        vertical-align: middle;\n",
       "    }\n",
       "\n",
       "    .dataframe tbody tr th {\n",
       "        vertical-align: top;\n",
       "    }\n",
       "\n",
       "    .dataframe thead th {\n",
       "        text-align: right;\n",
       "    }\n",
       "</style>\n",
       "<table border=\"1\" class=\"dataframe\">\n",
       "  <thead>\n",
       "    <tr style=\"text-align: right;\">\n",
       "      <th></th>\n",
       "      <th>ctr</th>\n",
       "    </tr>\n",
       "  </thead>\n",
       "  <tbody>\n",
       "    <tr>\n",
       "      <th>count</th>\n",
       "      <td>10020.000000</td>\n",
       "    </tr>\n",
       "    <tr>\n",
       "      <th>mean</th>\n",
       "      <td>0.216774</td>\n",
       "    </tr>\n",
       "    <tr>\n",
       "      <th>std</th>\n",
       "      <td>0.082969</td>\n",
       "    </tr>\n",
       "    <tr>\n",
       "      <th>min</th>\n",
       "      <td>0.000000</td>\n",
       "    </tr>\n",
       "    <tr>\n",
       "      <th>25%</th>\n",
       "      <td>0.163636</td>\n",
       "    </tr>\n",
       "    <tr>\n",
       "      <th>50%</th>\n",
       "      <td>0.205882</td>\n",
       "    </tr>\n",
       "    <tr>\n",
       "      <th>75%</th>\n",
       "      <td>0.257870</td>\n",
       "    </tr>\n",
       "    <tr>\n",
       "      <th>max</th>\n",
       "      <td>0.722222</td>\n",
       "    </tr>\n",
       "  </tbody>\n",
       "</table>\n",
       "</div>"
      ],
      "text/plain": [
       "                ctr\n",
       "count  10020.000000\n",
       "mean       0.216774\n",
       "std        0.082969\n",
       "min        0.000000\n",
       "25%        0.163636\n",
       "50%        0.205882\n",
       "75%        0.257870\n",
       "max        0.722222"
      ]
     },
     "execution_count": 42,
     "metadata": {},
     "output_type": "execute_result"
    }
   ],
   "source": [
    "ab_group_1['ctr'].describe().to_frame()"
   ]
  },
  {
   "cell_type": "code",
   "execution_count": 43,
   "id": "3bb4db0c-d563-4205-ae51-7d1bdc86985a",
   "metadata": {},
   "outputs": [
    {
     "data": {
      "text/html": [
       "<div>\n",
       "<style scoped>\n",
       "    .dataframe tbody tr th:only-of-type {\n",
       "        vertical-align: middle;\n",
       "    }\n",
       "\n",
       "    .dataframe tbody tr th {\n",
       "        vertical-align: top;\n",
       "    }\n",
       "\n",
       "    .dataframe thead th {\n",
       "        text-align: right;\n",
       "    }\n",
       "</style>\n",
       "<table border=\"1\" class=\"dataframe\">\n",
       "  <thead>\n",
       "    <tr style=\"text-align: right;\">\n",
       "      <th></th>\n",
       "      <th>ctr</th>\n",
       "    </tr>\n",
       "  </thead>\n",
       "  <tbody>\n",
       "    <tr>\n",
       "      <th>count</th>\n",
       "      <td>9877.000000</td>\n",
       "    </tr>\n",
       "    <tr>\n",
       "      <th>mean</th>\n",
       "      <td>0.216102</td>\n",
       "    </tr>\n",
       "    <tr>\n",
       "      <th>std</th>\n",
       "      <td>0.142870</td>\n",
       "    </tr>\n",
       "    <tr>\n",
       "      <th>min</th>\n",
       "      <td>0.000000</td>\n",
       "    </tr>\n",
       "    <tr>\n",
       "      <th>25%</th>\n",
       "      <td>0.096774</td>\n",
       "    </tr>\n",
       "    <tr>\n",
       "      <th>50%</th>\n",
       "      <td>0.153285</td>\n",
       "    </tr>\n",
       "    <tr>\n",
       "      <th>75%</th>\n",
       "      <td>0.323529</td>\n",
       "    </tr>\n",
       "    <tr>\n",
       "      <th>max</th>\n",
       "      <td>0.900000</td>\n",
       "    </tr>\n",
       "  </tbody>\n",
       "</table>\n",
       "</div>"
      ],
      "text/plain": [
       "               ctr\n",
       "count  9877.000000\n",
       "mean      0.216102\n",
       "std       0.142870\n",
       "min       0.000000\n",
       "25%       0.096774\n",
       "50%       0.153285\n",
       "75%       0.323529\n",
       "max       0.900000"
      ]
     },
     "execution_count": 43,
     "metadata": {},
     "output_type": "execute_result"
    }
   ],
   "source": [
    "ab_group_2['ctr'].describe().to_frame()"
   ]
  },
  {
   "cell_type": "markdown",
   "id": "e55128b8-819f-4d26-b7b1-f8701765f409",
   "metadata": {},
   "source": [
    "Несмотря на различные распределения, средние значения различаются слабо. 2 группа имеет бОльшую диспресию (бОльшая изменичвость данных). Также во второй выборке меньше медиана."
   ]
  },
  {
   "cell_type": "markdown",
   "id": "4cc2b7df-4e77-4313-94a9-818c5d04cc17",
   "metadata": {},
   "source": [
    "#### Предварительые выводы по методам анализа для сравнения CTR в двух группах\n",
    "\n",
    "t-тест выглядит не лучшим вариантом, т.к. средние у нас значительно не различаются, дисперсия в выборках различна, распределение второй группы бимодально.\n",
    "\n",
    "t-тест на сглаженном ctr (α=5) вряд ли особо исправить ситуацию с распределением.\n",
    "\n",
    "Тест Манна-Уитни, если и прокрасится, то сложно будет интерпретировать результат. Насколько я понимаю, он показывает различие в распределениях, если распределения схожи, то смещение.\n",
    "\n",
    "Так как распределения в двух выобрках разные, бутстреп выглядит наиболее подходящим вариантов, т.к. на выходе мы получим два нормальных распределения средних ctr. По тем же соображениям можно использовать бакетное преобразование."
   ]
  },
  {
   "cell_type": "markdown",
   "id": "4d6b9891-7603-441c-b296-2ae9cb80f8fc",
   "metadata": {},
   "source": [
    "### 2.1 t-тест\n",
    "\n",
    "***H0***: средний CTR в группах 1 и 2 не изменился: CTR(1) = CTR(2)\n",
    "\n",
    "***H1***: средний CTR в группе 2 выше, чем в группе 1: CTR(1) < CTR(2)\n",
    "\n",
    "Для односторонней гипотезы α = 0.025"
   ]
  },
  {
   "cell_type": "code",
   "execution_count": 142,
   "id": "9934a107-415d-4eef-b902-2e8a8c7811cb",
   "metadata": {},
   "outputs": [
    {
     "data": {
      "text/plain": [
       "TtestResult(statistic=-0.4051491913112757, pvalue=0.6573133344296245, df=15811.22649797086)"
      ]
     },
     "execution_count": 142,
     "metadata": {},
     "output_type": "execute_result"
    }
   ],
   "source": [
    "# Односторонняя гипотеза\n",
    "stats.ttest_ind(ab_group_2.ctr,\n",
    "                ab_group_1.ctr,\n",
    "                equal_var=False,\n",
    "                alternative='greater')"
   ]
  },
  {
   "cell_type": "markdown",
   "id": "9a139539-89c1-446e-901f-475e2b1e3af6",
   "metadata": {},
   "source": [
    "p-value > 0.025, причем значительно, соответстветно, оставляем нулевую гипотезу. Если построить нормальные распределения, используя параметры наших выборок, можно увидеть, почему t-тест не видит различий."
   ]
  },
  {
   "cell_type": "code",
   "execution_count": 144,
   "id": "d23431f0-c4a9-4300-ac86-a828d266b576",
   "metadata": {},
   "outputs": [
    {
     "name": "stdout",
     "output_type": "stream",
     "text": [
      "(-0.003924919126775034, 0.002580309534194663)\n"
     ]
    }
   ],
   "source": [
    "# Доверительный интервал\n",
    "cm = CompareMeans(DescrStatsW(ab_group_2.ctr), DescrStatsW(ab_group_1.ctr))\n",
    "print(cm.tconfint_diff(usevar='unequal'))"
   ]
  },
  {
   "cell_type": "markdown",
   "id": "61bd586e-4a48-4c6d-a480-25c3508bde38",
   "metadata": {},
   "source": [
    "**Симуляция двух нормальных распределений с характеристиками групп 1 и 2**"
   ]
  },
  {
   "cell_type": "code",
   "execution_count": 53,
   "id": "aea183f3-9b07-4e6e-adb1-2a817ac5f124",
   "metadata": {},
   "outputs": [
    {
     "data": {
      "image/png": "[encoded data removed]",
      "text/plain": [
       "<Figure size 1170x827 with 1 Axes>"
      ]
     },
     "metadata": {},
     "output_type": "display_data"
    }
   ],
   "source": [
    "# контрольная группа: mean = 0.216774, std = 0.082969\n",
    "normal_simulaton_control = np.random.normal(ab_group_1.ctr.mean(),\n",
    "                                            ab_group_1.ctr.std(),\n",
    "                                            ab_group_1.ctr.size)\n",
    "# тестовая группа: mean = 0.216102, std = 0.142870\n",
    "normal_simulaton_test = np.random.normal(ab_group_2.ctr.mean(),\n",
    "                                         ab_group_2.ctr.std(),\n",
    "                                         ab_group_2.ctr.size)\n",
    "fig, ax = plt.subplots()\n",
    "sns.histplot(normal_simulaton_test, label='test_simulaton', ax=ax, color='b', alpha=0.5)\n",
    "sns.histplot(normal_simulaton_control, label='control_simulaton', ax=ax, color='r', alpha=0.5)\n",
    "ax.legend(loc=0)\n",
    "ax.title.set_text('Normal simulaton groups')\n",
    "plt.show()"
   ]
  },
  {
   "cell_type": "markdown",
   "id": "adfbd181-c34b-4d31-a9c3-110bb689bff8",
   "metadata": {},
   "source": [
    "Визуально распределения схожи, видны различия дисперсии. Однако, данные распределения не имеют ничего общего с реальными. Опираться на t-тест в данном случае не стоит."
   ]
  },
  {
   "cell_type": "markdown",
   "id": "d6e73259-738c-40ed-868a-5e8b63170be3",
   "metadata": {},
   "source": [
    "### 2.2 Тест Манна-Уитни\n",
    "\n",
    "***H0***: распределения CTR в группах 1 и 2 не различаются.\n",
    "\n",
    "***H1***: распределения CTR в группах 1 и 2 различаются."
   ]
  },
  {
   "cell_type": "code",
   "execution_count": 55,
   "id": "1de2b53d-51e2-4cdd-a9d4-84ef20f8b886",
   "metadata": {},
   "outputs": [
    {
     "name": "stdout",
     "output_type": "stream",
     "text": [
      "MannwhitneyuResult(statistic=55189913.0, pvalue=4.632205841806026e-45)\n",
      "В 56.05 % случаев A > B\n"
     ]
    }
   ],
   "source": [
    "print(stats.mannwhitneyu(ab_group_1.ctr,\n",
    "                         ab_group_2.ctr))\n",
    "\n",
    "A_gt_B = 0\n",
    "for _ in range(10000):\n",
    "    A_gt_B += ab_group_1.ctr.sample().values[0] > ab_group_2.ctr.sample().values[0]\n",
    "    \n",
    "print('В', A_gt_B/100, '% случаев A > B')"
   ]
  },
  {
   "cell_type": "markdown",
   "id": "39db0943-388d-4678-b581-f0ae03664c66",
   "metadata": {},
   "source": [
    "p-value < 0.05, причем значительно, принимаем альтернативную гипотезу. В данном случае, сложно говорить о различии средних или медиан, т.к. это не является нулевой гипотезой для данного теста.\n",
    "\n",
    "Тест Манна-Уитни хорошо работает, если распределения схожи, при этом не важна их форма, в таком случае, можно было бы судить о сдвиге одного распределения относительно другого. В нашем случае, это условие не соблюдается."
   ]
  },
  {
   "cell_type": "markdown",
   "id": "af5b435b-396b-4d3c-b79e-7ba7b99ab89c",
   "metadata": {},
   "source": [
    "### 2.3 t-тест на сглаженном ctr (α=5)\n",
    "\n",
    "***H0***: средний CTR в группах 1 и 2 не изменился: CTR(1) = CTR(2)\n",
    "\n",
    "***H1***: средний CTR в группе 2 выше, чем в группе 1: CTR(1) < CTR(2)\n",
    "\n",
    "Для односторонней гипотезы α = 0.025"
   ]
  },
  {
   "cell_type": "code",
   "execution_count": 60,
   "id": "5bb7c647-4953-471d-a228-3294eed67612",
   "metadata": {},
   "outputs": [],
   "source": [
    "def get_smothed_ctr(user_likes, user_views, global_ctr, alpha):\n",
    "    '''\n",
    "    Функция рассчитывает сглаженный CTR\n",
    "    '''\n",
    "    smothed_ctr = (user_likes + alpha * global_ctr) / (user_views + alpha)\n",
    "    return smothed_ctr"
   ]
  },
  {
   "cell_type": "code",
   "execution_count": 77,
   "id": "5cf156ca-a283-4020-b303-274563e30f89",
   "metadata": {},
   "outputs": [],
   "source": [
    "# Рассчитываем общегрупповой CTR:\n",
    "global_ctr_1 = ab_group_1.likes.sum()/ab_group_1.views.sum()\n",
    "global_ctr_2 = ab_group_2.likes.sum()/ab_group_2.views.sum()\n",
    "\n",
    "# Копируем данные:\n",
    "smothed_group_1 = ab_group_1.copy()\n",
    "smothed_group_2 = ab_group_2.copy()\n",
    "\n",
    "# Считаем сглаженный ctr для каждого пользователя:\n",
    "smothed_group_1['smothed_ctr'] = smothed_group_1.apply(lambda x: get_smothed_ctr(x['likes'],\n",
    "                                                                                 x['views'],\n",
    "                                                                                 global_ctr_1, 5),\n",
    "                                                                                 axis=1)\n",
    "smothed_group_2['smothed_ctr'] = smothed_group_2.apply(lambda x: get_smothed_ctr(x['likes'],\n",
    "                                                                                 x['views'],\n",
    "                                                                                 global_ctr_1, 5),\n",
    "                                                                                 axis=1)"
   ]
  },
  {
   "cell_type": "code",
   "execution_count": 95,
   "id": "b78d40da-55c6-4521-979f-f02b96458fa1",
   "metadata": {},
   "outputs": [
    {
     "name": "stdout",
     "output_type": "stream",
     "text": [
      "smothed_ctr:\n",
      "count    10020.000000\n",
      "mean         0.215280\n",
      "std          0.069918\n",
      "min          0.029943\n",
      "25%          0.167667\n",
      "50%          0.206353\n",
      "75%          0.252001\n",
      "max          0.623289\n",
      "Name: smothed_ctr, dtype: float64\n",
      "\n",
      "ctr\n",
      "count    10020.000000\n",
      "mean         0.216774\n",
      "std          0.082969\n",
      "min          0.000000\n",
      "25%          0.163636\n",
      "50%          0.205882\n",
      "75%          0.257870\n",
      "max          0.722222\n",
      "Name: ctr, dtype: float64\n"
     ]
    },
    {
     "data": {
      "image/png": "[encoded data removed]",
      "text/plain": [
       "<Figure size 1170x827 with 1 Axes>"
      ]
     },
     "metadata": {},
     "output_type": "display_data"
    }
   ],
   "source": [
    "# Контрольная группа\n",
    "print(f'smothed_ctr:\\n{smothed_group_1.smothed_ctr.describe()}\\n\\nctr\\n{smothed_group_1.ctr.describe()}')\n",
    "\n",
    "fig, ax = plt.subplots()\n",
    "sns.histplot(smothed_group_1.ctr,\n",
    "             label='ctr',\n",
    "             ax=ax,\n",
    "             color='b',\n",
    "             alpha=0.5)\n",
    "sns.histplot(smothed_group_1.smothed_ctr,\n",
    "             label='smothed_ctr',\n",
    "             ax=ax,\n",
    "             color='r',\n",
    "             alpha=0.5)\n",
    "ax.legend(loc=0)\n",
    "ax.title.set_text('Control group')\n",
    "plt.show()"
   ]
  },
  {
   "cell_type": "code",
   "execution_count": 103,
   "id": "fb9ab15f-d994-42d8-8b46-3101f2b2a69a",
   "metadata": {},
   "outputs": [
    {
     "name": "stdout",
     "output_type": "stream",
     "text": [
      "smothed_ctr:\n",
      "count    9877.000000\n",
      "mean        0.213506\n",
      "std         0.123474\n",
      "min         0.032751\n",
      "25%         0.107791\n",
      "50%         0.160116\n",
      "75%         0.311386\n",
      "max         0.768267\n",
      "Name: smothed_ctr, dtype: float64\n",
      "\n",
      "ctr\n",
      "count    9877.000000\n",
      "mean        0.216102\n",
      "std         0.142870\n",
      "min         0.000000\n",
      "25%         0.096774\n",
      "50%         0.153285\n",
      "75%         0.323529\n",
      "max         0.900000\n",
      "Name: ctr, dtype: float64\n"
     ]
    },
    {
     "data": {
      "image/png": "[encoded data removed]",
      "text/plain": [
       "<Figure size 1170x827 with 1 Axes>"
      ]
     },
     "metadata": {},
     "output_type": "display_data"
    }
   ],
   "source": [
    "# Тестовая группа\n",
    "print(f'smothed_ctr:\\n{smothed_group_2.smothed_ctr.describe()}\\n\\nctr\\n{smothed_group_2.ctr.describe()}')\n",
    "\n",
    "fig, ax = plt.subplots()\n",
    "sns.histplot(smothed_group_2.ctr,\n",
    "             label='ctr',\n",
    "             ax=ax,\n",
    "             color='b',\n",
    "             alpha=0.5)\n",
    "sns.histplot(smothed_group_2.smothed_ctr,\n",
    "             label='smothed_ctr',\n",
    "             ax=ax,\n",
    "             color='r',\n",
    "             alpha=0.5)\n",
    "ax.legend(loc=0)\n",
    "ax.title.set_text('Test group')\n",
    "plt.show()"
   ]
  },
  {
   "cell_type": "markdown",
   "id": "24944462-7df4-472c-9953-1b4b03c56000",
   "metadata": {},
   "source": [
    "Мы получили схожие данные с меньшей дисперсией."
   ]
  },
  {
   "cell_type": "code",
   "execution_count": 145,
   "id": "c9f37ec3-17d4-48db-9714-17d64f2f6ac6",
   "metadata": {},
   "outputs": [
    {
     "data": {
      "text/plain": [
       "TtestResult(statistic=-1.2447034376197381, pvalue=0.8933702430424518, df=15572.176418406785)"
      ]
     },
     "execution_count": 145,
     "metadata": {},
     "output_type": "execute_result"
    }
   ],
   "source": [
    "# Односторонняя гипотеза\n",
    "stats.ttest_ind(smothed_group_2.smothed_ctr,\n",
    "                smothed_group_1.smothed_ctr,\n",
    "                equal_var=False,\n",
    "                alternative='greater')"
   ]
  },
  {
   "cell_type": "markdown",
   "id": "64e5a568-b27d-4252-8e47-44a533ed3bf8",
   "metadata": {},
   "source": [
    "p-value > 0.025, причем значительно, соответстветно, оставляем нулевую гипотезу. Если построить нормальные распределения, используя параметры наших выборок, можно увидеть, почему t-тест не видит различий."
   ]
  },
  {
   "cell_type": "code",
   "execution_count": 146,
   "id": "3feb610f-e4d5-45f6-b736-218aca5673e2",
   "metadata": {},
   "outputs": [
    {
     "name": "stdout",
     "output_type": "stream",
     "text": [
      "(-0.004567777133194217, 0.0010196662872872684)\n"
     ]
    }
   ],
   "source": [
    "# Доверительный интервал\n",
    "cm = CompareMeans(DescrStatsW(smothed_group_2.smothed_ctr), DescrStatsW(smothed_group_1.smothed_ctr))\n",
    "print(cm.tconfint_diff(usevar='unequal'))"
   ]
  },
  {
   "cell_type": "markdown",
   "id": "b900d991-f2da-47f2-8de4-c9b33ea5ef6f",
   "metadata": {},
   "source": [
    "p-value > 0.025, оставляем нулевую гипотезу. При этом само значение меньше, чем при t-тесте несглаженного ctr. Применив функцию сглаживания увеличилось различие в средних ctr и уменьшилась дисперсия в каждой выборке, в этом причина меньшего значения p-value."
   ]
  },
  {
   "cell_type": "markdown",
   "id": "cf997abc-3c56-4220-8084-65965d7883ab",
   "metadata": {},
   "source": [
    "**Симуляция двух нормальных распределений с характеристиками сглаженных CTR для групп 1 и 2**"
   ]
  },
  {
   "cell_type": "code",
   "execution_count": 116,
   "id": "87ef3afc-f5fc-4cf6-85d1-ad78045cc91e",
   "metadata": {},
   "outputs": [
    {
     "data": {
      "image/png": "[encoded data removed]",
      "text/plain": [
       "<Figure size 1170x827 with 1 Axes>"
      ]
     },
     "metadata": {},
     "output_type": "display_data"
    }
   ],
   "source": [
    "# контрольная группа:\n",
    "normal_simulaton_control = np.random.normal(smothed_group_1.smothed_ctr.mean(),\n",
    "                                            smothed_group_1.smothed_ctr.std(),\n",
    "                                            smothed_group_1.smothed_ctr.size)\n",
    "# тестовая группа:\n",
    "normal_simulaton_test = np.random.normal(smothed_group_2.smothed_ctr.mean(),\n",
    "                                         smothed_group_2.smothed_ctr.std(),\n",
    "                                         smothed_group_2.smothed_ctr.size)\n",
    "fig, ax = plt.subplots()\n",
    "sns.histplot(normal_simulaton_test, label='test_simulaton', ax=ax, color='b', alpha=0.5)\n",
    "sns.histplot(normal_simulaton_control, label='control_simulaton', ax=ax, color='r', alpha=0.5)\n",
    "ax.legend(loc=0)\n",
    "ax.title.set_text('Normal simulaton groups')\n",
    "plt.show()"
   ]
  },
  {
   "cell_type": "markdown",
   "id": "09761be6-71fa-4bd3-b460-e3bd9e070832",
   "metadata": {},
   "source": [
    "### 2.4 Пуассоновский бутстреп\n",
    "\n",
    "***H0***: общегрупповой CTR в группах 1 и 2 не изменился: CTR_global(1) = CTR_global(2)\n",
    "\n",
    "***H1***: общегрупповой CTR в группе 2 выше, чем в группе 1: CTR_global(1) < CTR_global(2)\n",
    "\n",
    "Для односторонней гипотезы α = 0.025"
   ]
  },
  {
   "cell_type": "code",
   "execution_count": 118,
   "id": "390b17f3-41f4-4d41-9593-cf8d5f3a0d87",
   "metadata": {},
   "outputs": [],
   "source": [
    "def bootstrap(likes1, views1, likes2, views2, n_bootstrap=2000):\n",
    "    '''\n",
    "    Функция рассчитывает общий ctr n_bootstrap раз.\n",
    "    Каждая выборка для расчета общего ctr задается согласно распределению Пуассона.\n",
    "    '''\n",
    "    \n",
    "    poisson_bootstraps1 = stats.poisson(1).rvs(\n",
    "        (n_bootstrap, len(likes1))).astype(np.int64)\n",
    "\n",
    "    poisson_bootstraps2 = stats.poisson(1).rvs(\n",
    "            (n_bootstrap, len(likes2))).astype(np.int64)\n",
    "    \n",
    "    globalCTR1 = (poisson_bootstraps1*likes1).sum(axis=1)/(poisson_bootstraps1*views1).sum(axis=1)\n",
    "    \n",
    "    globalCTR2 = (poisson_bootstraps2*likes2).sum(axis=1)/(poisson_bootstraps2*views2).sum(axis=1)\n",
    "\n",
    "    return globalCTR1, globalCTR2"
   ]
  },
  {
   "cell_type": "code",
   "execution_count": 149,
   "id": "2c8da9ae-6483-4b6c-8e51-22ed351a683a",
   "metadata": {},
   "outputs": [
    {
     "data": {
      "image/png": "[encoded data removed]",
      "text/plain": [
       "<Figure size 1170x827 with 1 Axes>"
      ]
     },
     "metadata": {},
     "output_type": "display_data"
    }
   ],
   "source": [
    "# Подготовим данные для функции\n",
    "likes1 = ab_group_1.likes.to_numpy()\n",
    "views1 = ab_group_1.views.to_numpy()\n",
    "likes2 = ab_group_2.likes.to_numpy()\n",
    "views2 = ab_group_2.views.to_numpy()\n",
    "\n",
    "globalCTR1, globalCTR2 = bootstrap(likes1, views1, likes2, views2)\n",
    "ctr_diff = globalCTR2 - globalCTR1\n",
    "\n",
    "fig, ax = plt.subplots()\n",
    "sns.histplot(globalCTR1,\n",
    "             label='control_ctr',\n",
    "             ax=ax,\n",
    "             color='r',\n",
    "             alpha=0.5)\n",
    "sns.histplot(globalCTR2,\n",
    "             label='test_ctr',\n",
    "             ax=ax,\n",
    "             color='b',\n",
    "             alpha=0.5)\n",
    "\n",
    "ax.legend(loc=0)\n",
    "ax.title.set_text('Poisson bootstrap global CTR (n_bootstrap = 2000)')\n",
    "plt.show()"
   ]
  },
  {
   "cell_type": "code",
   "execution_count": 150,
   "id": "c76a16c9-3826-41bf-a940-a0c195296563",
   "metadata": {},
   "outputs": [
    {
     "data": {
      "text/plain": [
       "TtestResult(statistic=-265.2584283286938, pvalue=1.0, df=2959.9799548768965)"
      ]
     },
     "execution_count": 150,
     "metadata": {},
     "output_type": "execute_result"
    }
   ],
   "source": [
    "# Проведем t-тест для полученных распределений ctr\n",
    "stats.ttest_ind(globalCTR2,\n",
    "                globalCTR1,\n",
    "                equal_var=False,\n",
    "                alternative='greater')"
   ]
  },
  {
   "cell_type": "code",
   "execution_count": 151,
   "id": "887fcdf2-dbf6-41e7-abdb-82d0b5f7fd29",
   "metadata": {},
   "outputs": [
    {
     "name": "stdout",
     "output_type": "stream",
     "text": [
      "(-0.009417655880480389, -0.009279448614284638)\n"
     ]
    }
   ],
   "source": [
    "# Доверительный интервал\n",
    "cm = CompareMeans(DescrStatsW(globalCTR2), DescrStatsW(globalCTR1))\n",
    "print(cm.tconfint_diff(usevar='unequal'))"
   ]
  },
  {
   "cell_type": "code",
   "execution_count": 161,
   "id": "fb3a55af-afb8-4f70-ac54-36a2f43e0cea",
   "metadata": {},
   "outputs": [
    {
     "name": "stdout",
     "output_type": "stream",
     "text": [
      "p-value = 1.0, оставляем нулевую гипотезу, что CTR не изменился.\n",
      "Доверительный интервал разницы CTR в двух группах: -0.009417655880480389; -0.009279448614284638.\n",
      "Так как 0 не входит в границы и значения отрицательные, можно говорить, что произошло уменьшение CTR в тестовой группе.\n"
     ]
    }
   ],
   "source": [
    "print(f'''p-value = 1.0, оставляем нулевую гипотезу, что CTR не изменился.\n",
    "Доверительный интервал разницы CTR в двух группах: {cm.tconfint_diff(usevar='unequal')[0]}; {cm.tconfint_diff(usevar='unequal')[1]}.\n",
    "Так как 0 не входит в границы и значения отрицательные, можно говорить, что произошло уменьшение CTR в тестовой группе.''')"
   ]
  },
  {
   "cell_type": "markdown",
   "id": "7a67bf95-ffe2-46d5-a3e7-0ae8a0ec7933",
   "metadata": {},
   "source": [
    "### 2.5 Бакетное преобразование"
   ]
  },
  {
   "cell_type": "code",
   "execution_count": 167,
   "id": "d59e352e-e978-40e5-8078-c74c0e406311",
   "metadata": {},
   "outputs": [
    {
     "data": {
      "text/html": [
       "<div>\n",
       "<style scoped>\n",
       "    .dataframe tbody tr th:only-of-type {\n",
       "        vertical-align: middle;\n",
       "    }\n",
       "\n",
       "    .dataframe tbody tr th {\n",
       "        vertical-align: top;\n",
       "    }\n",
       "\n",
       "    .dataframe thead th {\n",
       "        text-align: right;\n",
       "    }\n",
       "</style>\n",
       "<table border=\"1\" class=\"dataframe\">\n",
       "  <thead>\n",
       "    <tr style=\"text-align: right;\">\n",
       "      <th></th>\n",
       "      <th>bucket_users</th>\n",
       "    </tr>\n",
       "  </thead>\n",
       "  <tbody>\n",
       "    <tr>\n",
       "      <th>count</th>\n",
       "      <td>100.000000</td>\n",
       "    </tr>\n",
       "    <tr>\n",
       "      <th>mean</th>\n",
       "      <td>198.970000</td>\n",
       "    </tr>\n",
       "    <tr>\n",
       "      <th>std</th>\n",
       "      <td>13.727842</td>\n",
       "    </tr>\n",
       "    <tr>\n",
       "      <th>min</th>\n",
       "      <td>164.000000</td>\n",
       "    </tr>\n",
       "    <tr>\n",
       "      <th>25%</th>\n",
       "      <td>188.750000</td>\n",
       "    </tr>\n",
       "    <tr>\n",
       "      <th>50%</th>\n",
       "      <td>198.500000</td>\n",
       "    </tr>\n",
       "    <tr>\n",
       "      <th>75%</th>\n",
       "      <td>210.000000</td>\n",
       "    </tr>\n",
       "    <tr>\n",
       "      <th>max</th>\n",
       "      <td>225.000000</td>\n",
       "    </tr>\n",
       "  </tbody>\n",
       "</table>\n",
       "</div>"
      ],
      "text/plain": [
       "       bucket_users\n",
       "count    100.000000\n",
       "mean     198.970000\n",
       "std       13.727842\n",
       "min      164.000000\n",
       "25%      188.750000\n",
       "50%      198.500000\n",
       "75%      210.000000\n",
       "max      225.000000"
      ]
     },
     "execution_count": 167,
     "metadata": {},
     "output_type": "execute_result"
    }
   ],
   "source": [
    "# Посчитаем сколько пользователей попадет в каждый бакет, если количество бакетов = 50\n",
    "q = '''\n",
    "SELECT\n",
    "    COUNT(user_id) AS bucket_users\n",
    "FROM\n",
    "    (SELECT\n",
    "        exp_group,\n",
    "        xxHash64(user_id)%50 as bucket,\n",
    "        user_id,\n",
    "        sum(action = 'like') as likes,\n",
    "        sum(action = 'view') as views,\n",
    "        likes/views as ctr\n",
    "    FROM\n",
    "        {db}.feed_actions\n",
    "    WHERE\n",
    "        toDate(time) between '2024-03-01' AND '2024-03-07'\n",
    "        AND exp_group IN (1, 2)\n",
    "    GROUP BY\n",
    "        exp_group, bucket, user_id)\n",
    "GROUP BY\n",
    "    exp_group, bucket\n",
    "'''\n",
    "\n",
    "pandahouse.read_clickhouse(q, connection=connection).describe()"
   ]
  },
  {
   "cell_type": "markdown",
   "id": "0b43bdc2-c1f0-4716-8ad4-8eb9321092f5",
   "metadata": {},
   "source": [
    "Практически по 200 пользователей в каждом бакете"
   ]
  },
  {
   "cell_type": "markdown",
   "id": "5970f0d6-a43c-4bfa-8c46-e4491428840b",
   "metadata": {},
   "source": [
    "**Разделим пользователей на бакеты и посчитаем для каждого бакета ctr и медиану**"
   ]
  },
  {
   "cell_type": "code",
   "execution_count": 163,
   "id": "ddaac0e0-7f5c-4bda-848d-1852d921cfc0",
   "metadata": {},
   "outputs": [],
   "source": [
    "q = '''\n",
    "SELECT\n",
    "    exp_group,\n",
    "    bucket,\n",
    "    SUM(likes)/SUM(views) AS bucket_ctr,\n",
    "    quantileExact(0.5)(ctr) AS bucket_median\n",
    "FROM\n",
    "    (SELECT\n",
    "        exp_group,\n",
    "        xxHash64(user_id)%50 as bucket,\n",
    "        user_id,\n",
    "        sum(action = 'like') as likes,\n",
    "        sum(action = 'view') as views,\n",
    "        likes/views as ctr\n",
    "    FROM\n",
    "        {db}.feed_actions\n",
    "    WHERE\n",
    "        toDate(time) between '2024-03-01' AND '2024-03-07'\n",
    "        AND exp_group IN (1, 2)\n",
    "    GROUP BY\n",
    "        exp_group, bucket, user_id)\n",
    "GROUP BY\n",
    "   exp_group, bucket \n",
    "'''\n",
    "\n",
    "ab_buckets = pandahouse.read_clickhouse(q, connection=connection)"
   ]
  },
  {
   "cell_type": "code",
   "execution_count": 165,
   "id": "7fefb581-629a-45e3-ac19-8210334d528d",
   "metadata": {},
   "outputs": [],
   "source": [
    "# Данная выгрузка сохранена как aa_test.csv\n",
    "\n",
    "# ab_buckets.to_csv('ab_buckets.csv', index=False)\n",
    "# ab_buckets = pd.read_csv('ab_buckets.csv')"
   ]
  },
  {
   "cell_type": "code",
   "execution_count": 166,
   "id": "ea33a59b-e6ac-426d-9278-e2a81274bc30",
   "metadata": {},
   "outputs": [
    {
     "data": {
      "text/html": [
       "<div>\n",
       "<style scoped>\n",
       "    .dataframe tbody tr th:only-of-type {\n",
       "        vertical-align: middle;\n",
       "    }\n",
       "\n",
       "    .dataframe tbody tr th {\n",
       "        vertical-align: top;\n",
       "    }\n",
       "\n",
       "    .dataframe thead th {\n",
       "        text-align: right;\n",
       "    }\n",
       "</style>\n",
       "<table border=\"1\" class=\"dataframe\">\n",
       "  <thead>\n",
       "    <tr style=\"text-align: right;\">\n",
       "      <th></th>\n",
       "      <th>exp_group</th>\n",
       "      <th>bucket</th>\n",
       "      <th>bucket_ctr</th>\n",
       "      <th>bucket_median</th>\n",
       "    </tr>\n",
       "  </thead>\n",
       "  <tbody>\n",
       "    <tr>\n",
       "      <th>0</th>\n",
       "      <td>1</td>\n",
       "      <td>0</td>\n",
       "      <td>0.200592</td>\n",
       "      <td>0.200000</td>\n",
       "    </tr>\n",
       "    <tr>\n",
       "      <th>1</th>\n",
       "      <td>2</td>\n",
       "      <td>0</td>\n",
       "      <td>0.196510</td>\n",
       "      <td>0.133333</td>\n",
       "    </tr>\n",
       "    <tr>\n",
       "      <th>2</th>\n",
       "      <td>1</td>\n",
       "      <td>1</td>\n",
       "      <td>0.208799</td>\n",
       "      <td>0.204545</td>\n",
       "    </tr>\n",
       "    <tr>\n",
       "      <th>3</th>\n",
       "      <td>2</td>\n",
       "      <td>1</td>\n",
       "      <td>0.210375</td>\n",
       "      <td>0.202703</td>\n",
       "    </tr>\n",
       "    <tr>\n",
       "      <th>4</th>\n",
       "      <td>1</td>\n",
       "      <td>2</td>\n",
       "      <td>0.204632</td>\n",
       "      <td>0.204819</td>\n",
       "    </tr>\n",
       "    <tr>\n",
       "      <th>...</th>\n",
       "      <td>...</td>\n",
       "      <td>...</td>\n",
       "      <td>...</td>\n",
       "      <td>...</td>\n",
       "    </tr>\n",
       "    <tr>\n",
       "      <th>95</th>\n",
       "      <td>2</td>\n",
       "      <td>47</td>\n",
       "      <td>0.196808</td>\n",
       "      <td>0.145631</td>\n",
       "    </tr>\n",
       "    <tr>\n",
       "      <th>96</th>\n",
       "      <td>1</td>\n",
       "      <td>48</td>\n",
       "      <td>0.216369</td>\n",
       "      <td>0.212121</td>\n",
       "    </tr>\n",
       "    <tr>\n",
       "      <th>97</th>\n",
       "      <td>2</td>\n",
       "      <td>48</td>\n",
       "      <td>0.194780</td>\n",
       "      <td>0.146119</td>\n",
       "    </tr>\n",
       "    <tr>\n",
       "      <th>98</th>\n",
       "      <td>1</td>\n",
       "      <td>49</td>\n",
       "      <td>0.206288</td>\n",
       "      <td>0.207547</td>\n",
       "    </tr>\n",
       "    <tr>\n",
       "      <th>99</th>\n",
       "      <td>2</td>\n",
       "      <td>49</td>\n",
       "      <td>0.192512</td>\n",
       "      <td>0.142857</td>\n",
       "    </tr>\n",
       "  </tbody>\n",
       "</table>\n",
       "<p>100 rows × 4 columns</p>\n",
       "</div>"
      ],
      "text/plain": [
       "    exp_group  bucket  bucket_ctr  bucket_median\n",
       "0           1       0    0.200592       0.200000\n",
       "1           2       0    0.196510       0.133333\n",
       "2           1       1    0.208799       0.204545\n",
       "3           2       1    0.210375       0.202703\n",
       "4           1       2    0.204632       0.204819\n",
       "..        ...     ...         ...            ...\n",
       "95          2      47    0.196808       0.145631\n",
       "96          1      48    0.216369       0.212121\n",
       "97          2      48    0.194780       0.146119\n",
       "98          1      49    0.206288       0.207547\n",
       "99          2      49    0.192512       0.142857\n",
       "\n",
       "[100 rows x 4 columns]"
      ]
     },
     "execution_count": 166,
     "metadata": {},
     "output_type": "execute_result"
    }
   ],
   "source": [
    "ab_buckets"
   ]
  },
  {
   "cell_type": "code",
   "execution_count": 170,
   "id": "bd5d0f9a-31d6-41d6-bdf8-5ee58b953b05",
   "metadata": {},
   "outputs": [
    {
     "data": {
      "image/png": "[encoded data removed]",
      "text/plain": [
       "<Figure size 1170x827 with 1 Axes>"
      ]
     },
     "metadata": {},
     "output_type": "display_data"
    }
   ],
   "source": [
    "# Построим распределения CTR бакетов\n",
    "fig, ax = plt.subplots()\n",
    "sns.histplot(ab_buckets[ab_buckets.exp_group == 1].bucket_ctr,\n",
    "             label='control_ctr',\n",
    "             ax=ax,\n",
    "             color='r',\n",
    "             alpha=0.5)\n",
    "sns.histplot(ab_buckets[ab_buckets.exp_group == 2].bucket_ctr,\n",
    "             label='test_ctr',\n",
    "             ax=ax,\n",
    "             color='b',\n",
    "             alpha=0.5)\n",
    "ax.legend(loc=0)\n",
    "ax.title.set_text('Bucket CTR')\n",
    "plt.show()"
   ]
  },
  {
   "cell_type": "code",
   "execution_count": 173,
   "id": "055c11f7-b516-4963-b56f-dda53ba034d5",
   "metadata": {},
   "outputs": [
    {
     "data": {
      "image/png": "[encoded data removed]",
      "text/plain": [
       "<Figure size 1170x827 with 1 Axes>"
      ]
     },
     "metadata": {},
     "output_type": "display_data"
    }
   ],
   "source": [
    "# Построим распределения медианы CTR бакетов\n",
    "fig, ax = plt.subplots()\n",
    "sns.histplot(ab_buckets[ab_buckets.exp_group == 1].bucket_median, label='control_median', ax=ax, color='r', alpha=0.5)\n",
    "sns.histplot(ab_buckets[ab_buckets.exp_group == 2].bucket_median, label='test_median', ax=ax, color='b', alpha=0.5)\n",
    "ax.legend(loc=0)\n",
    "ax.title.set_text('Bucket medians')\n",
    "plt.show()"
   ]
  },
  {
   "cell_type": "markdown",
   "id": "7b935e60-50fe-4ee3-b9a4-d637ad7d30dd",
   "metadata": {},
   "source": [
    "#### 2.5.1 Проведем t-тесты и тесты Манна-Уитни для полученных распределений"
   ]
  },
  {
   "cell_type": "markdown",
   "id": "8bce5612-5c1d-45f8-b44b-09ed5665bf07",
   "metadata": {},
   "source": [
    "**t-тест**\n",
    "\n",
    "Для бакетных CTR:\n",
    "  \n",
    "- ***H0***: средний бакетный CTR в группах 1 и 2 не изменился: CTR(1) = CTR(2)\n",
    "- ***H1***: средний бакетный CTR в группе 2 выше, чем в группе 1: CTR(1) < CTR(2)\n",
    "\n",
    "Для бакетных медиан:\n",
    "  \n",
    "- ***H0***: средняя бакетная медиана CTR в группах 1 и 2 не изменилась: CTRmedian(1) = CTRmedian(2)\n",
    "- ***H1***: средняя бакетная медиана CTR в группе 2 выше, чем в группе 1: CTRmedian(1) < CTRmedian(2)"
   ]
  },
  {
   "cell_type": "code",
   "execution_count": 178,
   "id": "a8e06b0b-e888-4646-a670-8af0692c720b",
   "metadata": {},
   "outputs": [
    {
     "data": {
      "text/plain": [
       "TtestResult(statistic=-5.614819358149381, pvalue=0.9999997703677531, df=63.82788260732127)"
      ]
     },
     "execution_count": 178,
     "metadata": {},
     "output_type": "execute_result"
    }
   ],
   "source": [
    "# Бакетный CTR\n",
    "stats.ttest_ind(ab_buckets[ab_buckets.exp_group == 2].bucket_ctr, \n",
    "                ab_buckets[ab_buckets.exp_group == 1].bucket_ctr, \n",
    "                equal_var = False,\n",
    "                alternative='greater')"
   ]
  },
  {
   "cell_type": "code",
   "execution_count": 182,
   "id": "de33d8f9-c61d-4471-b6d1-94b2216d2643",
   "metadata": {},
   "outputs": [
    {
     "name": "stdout",
     "output_type": "stream",
     "text": [
      "(-0.012523537805654829, -0.0059502858814775225)\n"
     ]
    }
   ],
   "source": [
    "# Доверительный интервал для бакетных CTR\n",
    "cm_bucket_ctr = CompareMeans(DescrStatsW(ab_buckets[ab_buckets.exp_group == 2].bucket_ctr),\n",
    "                             DescrStatsW(ab_buckets[ab_buckets.exp_group == 1].bucket_ctr))\n",
    "print(cm_bucket_ctr.tconfint_diff(usevar='unequal'))"
   ]
  },
  {
   "cell_type": "code",
   "execution_count": 179,
   "id": "91e6d81f-1673-4aaf-afb2-9f996f37e836",
   "metadata": {},
   "outputs": [
    {
     "data": {
      "text/plain": [
       "TtestResult(statistic=-10.286475733048839, pvalue=0.9999999999999838, df=52.82393854884867)"
      ]
     },
     "execution_count": 179,
     "metadata": {},
     "output_type": "execute_result"
    }
   ],
   "source": [
    "# Бакетная медиана CTR\n",
    "stats.ttest_ind(ab_buckets[ab_buckets.exp_group == 2].bucket_median, \n",
    "                ab_buckets[ab_buckets.exp_group == 1].bucket_median, \n",
    "                equal_var = False,\n",
    "                alternative='greater')"
   ]
  },
  {
   "cell_type": "code",
   "execution_count": 183,
   "id": "20089ba4-0805-4752-bf54-54bf656e261c",
   "metadata": {},
   "outputs": [
    {
     "name": "stdout",
     "output_type": "stream",
     "text": [
      "(-0.054315417153246746, -0.036588756117982714)\n"
     ]
    }
   ],
   "source": [
    "# Доверительный интервал для бакетных CTR\n",
    "cm_bucket_median = CompareMeans(DescrStatsW(ab_buckets[ab_buckets.exp_group == 2].bucket_median),\n",
    "                                DescrStatsW(ab_buckets[ab_buckets.exp_group == 1].bucket_median))\n",
    "print(cm_bucket_median.tconfint_diff(usevar='unequal'))"
   ]
  },
  {
   "cell_type": "code",
   "execution_count": 184,
   "id": "9103294b-0119-4f86-aeea-a68a79647855",
   "metadata": {},
   "outputs": [
    {
     "name": "stdout",
     "output_type": "stream",
     "text": [
      "p-value близко к 1 для двух метрик, оставляем нулевую гипотезу, что CTR не изменился.\n",
      "\n",
      "Бакетный CTR\n",
      "Доверительный интервал разницы бакетных CTR в двух группах: -0.012523537805654829; -0.0059502858814775225.\n",
      "Так как 0 не входит в границы и значения отрицательные, можно говорить, что произошло уменьшение CTR в тестовой группе.\n",
      "\n",
      "Бакетная медиана CTR\n",
      "Доверительный интервал разницы бакетных медиан CTR в двух группах: -0.054315417153246746; -0.036588756117982714.\n",
      "Так как 0 не входит в границы и значения отрицательные, можно говорить, что произошло уменьшение медианного значения CTR в тестовой группе.\n",
      "\n"
     ]
    }
   ],
   "source": [
    "print(f'''p-value близко к 1 для двух метрик, оставляем нулевую гипотезу, что CTR не изменился.\n",
    "\n",
    "Бакетный CTR\n",
    "Доверительный интервал разницы бакетных CTR в двух группах: {cm_bucket_ctr.tconfint_diff(usevar='unequal')[0]}; {cm_bucket_ctr.tconfint_diff(usevar='unequal')[1]}.\n",
    "Так как 0 не входит в границы и значения отрицательные, можно говорить, что произошло уменьшение CTR в тестовой группе.\n",
    "\n",
    "Бакетная медиана CTR\n",
    "Доверительный интервал разницы бакетных медиан CTR в двух группах: {cm_bucket_median.tconfint_diff(usevar='unequal')[0]}; {cm_bucket_median.tconfint_diff(usevar='unequal')[1]}.\n",
    "Так как 0 не входит в границы и значения отрицательные, можно говорить, что произошло уменьшение медианного значения CTR в тестовой группе.\n",
    "''')"
   ]
  },
  {
   "cell_type": "markdown",
   "id": "87a1e11e-5074-45aa-821a-aaf447fe74a9",
   "metadata": {},
   "source": [
    "**Тест Манна-Уитни**\n",
    "\n",
    "Для бакетных CTR:\n",
    "\n",
    "- ***H0***: распределения бакетных CTR в группах 1 и 2 не различаются\n",
    "- ***H1***: распределения бакетных CTR в группах 1 и 2 различаются\n",
    "\n",
    "Для бакетных медиан:\n",
    "  \n",
    "- ***H0***: распределения бакетных медиан CTR в группах 1 и 2 не различаются\n",
    "- ***H1***: распределения бакетных медиан CTR в группах 1 и 2 различаются"
   ]
  },
  {
   "cell_type": "code",
   "execution_count": 185,
   "id": "4f4c9f9e-01f8-4d09-ac63-2459ec462205",
   "metadata": {},
   "outputs": [
    {
     "data": {
      "text/plain": [
       "MannwhitneyuResult(statistic=1997.0, pvalue=2.6576427804010095e-07)"
      ]
     },
     "execution_count": 185,
     "metadata": {},
     "output_type": "execute_result"
    }
   ],
   "source": [
    "stats.mannwhitneyu(ab_buckets[ab_buckets.exp_group == 1].bucket_ctr, \n",
    "                   ab_buckets[ab_buckets.exp_group == 2].bucket_ctr, \n",
    "                   alternative = 'two-sided')"
   ]
  },
  {
   "cell_type": "code",
   "execution_count": 186,
   "id": "8d20639e-791e-4780-9d0b-a5553b601e89",
   "metadata": {},
   "outputs": [
    {
     "data": {
      "text/plain": [
       "MannwhitneyuResult(statistic=2315.0, pvalue=1.9249114229036693e-13)"
      ]
     },
     "execution_count": 186,
     "metadata": {},
     "output_type": "execute_result"
    }
   ],
   "source": [
    "stats.mannwhitneyu(ab_buckets[ab_buckets.exp_group == 1].bucket_median, \n",
    "                   ab_buckets[ab_buckets.exp_group == 2].bucket_median, \n",
    "                   alternative = 'two-sided')"
   ]
  },
  {
   "cell_type": "markdown",
   "id": "abed30ce-1c8d-4cf3-92a4-e4c9992a915f",
   "metadata": {},
   "source": [
    "Тесты Манна-Уитни показывают стат.значимые различия для двух метрик."
   ]
  },
  {
   "cell_type": "markdown",
   "id": "1d70df09-cefa-450c-9544-0500afead29f",
   "metadata": {},
   "source": [
    "## Выводы по тестам:\n",
    "\n",
    "a) t-тест различий не зафиксировал.  \n",
    "Проблема свзяана с распределением тестовой группы и схожим средним CTR в группах.\n",
    "\n",
    "b) Тест Манна-Уитни зафиксировал статистически значимые различия.   \n",
    "При этом сложно интепретировать результаты теста, т.к. он хорошо работает, если распределения схожи, при этом не важна их форма. В таком случае, можно было бы судить о сдвиге одного распределения относительно другого. В нашем случае, это условие не соблюдается.\n",
    "\n",
    "c) t-тест на сглаженном ctr (α=5) различий не зафиксировал.   \n",
    "При этом p-value для односторонней гипотезы об увелчинии значения CTR в тестовой группе - выше, чем при t-тесте несглаженного ctr. Применив функцию сглаживания, увеличилось различие в средних ctr и снизилась дисперсия, думаю именно в этом причина увеличения значения p-value.\n",
    "\n",
    "d) Пуассоновский бутстрап зафиксировал различия.   \n",
    "0 не входит в границы доверительного интервала разницы CTR в двух группах.\n",
    "Так как доверительный интервал расположен в отрицательной области, можно говорить, что произошло уменьшение CTR в тестовой группе.\n",
    "\n",
    "e) t-тест и тест Манна-Уитни на бакетном преобразовании зафиксировали различия в ctr и медианах.   \n",
    "0 не входит в границы доверительного интервала разницы бакетных CTR в двух группах.   \n",
    "Так как доверительный интервал расположен в отрицательной области, можно говорить, что произошло уменьшение CTR в тестовой группе."
   ]
  },
  {
   "cell_type": "markdown",
   "id": "8e3d1813-6b65-4aaa-9db5-4a37932850f9",
   "metadata": {},
   "source": [
    "## Выводы по полученному распределению в тестовой группе\n",
    "\n",
    "Если опираться на результаты тестов можно сделать вывод, что ctr в тестовой группе стал ниже.\n",
    "\n",
    "Посмотрим распределение ctr в тестовой группе:\n",
    "- Можно явно увидеть две группы пользователей:\n",
    "  1. Пользоватали, у которых ctr уменьшился (по сравнению со средним в контрольной).\n",
    "  2. Пользователи, у которых ctr увеличился (по сравнению со средним в контрольной).\n",
    "\n",
    "Эти две группы явно выделяются на распределении.\n",
    "Новый алгорится положительно повлиял на одну долю пользователей и негативно на другую долю пользователей, на часть пользователей влияние не оказал.\n",
    "\n",
    "Соответственно, однозначно говорить о том. что алгоритм сделал выдачу в новостной ленте хуже нельзя.\n",
    "\n",
    "Возможно, часть пользователей, начав пользоваться приложением в периоде А/А теста, в период А/В теста снизила свою активность и в дальнейшем перестала пользоваться приложением, т.е. пробелма не в новом алгоритме, а в том, что приложение в целом им не понравилось."
   ]
  },
  {
   "cell_type": "markdown",
   "id": "01cceeec-c3db-4fb7-b42b-20b4ddcb09a6",
   "metadata": {},
   "source": [
    "## Заключение\n",
    "\n",
    "Думаю расскатывать новый алгоритм на всех пользователей не стоит.  \n",
    "Стоит понять почему на одних пользователей алгоритм повлиял положительно, а на других отрицательно. В чем особенность и различие этих пользователей.  \n",
    "\n",
    "Исходя из этого следует проанализировать:  \n",
    "- как можно улучшить алгоритм, чтобы он работал для всех пользователей.\n",
    "- выделить пользователей на которых алгоритм повлиял положительно, провести еще один тест на этом типе пользователей, если алгоритм статистически значимо увеличит значение ctr в тестовой группе, расскатить алгоритм только на схожих пользователей."
   ]
  },
  {
   "cell_type": "code",
   "execution_count": null,
   "id": "02988eb3-c1d7-4004-ac3f-cc0ef5088781",
   "metadata": {},
   "outputs": [],
   "source": []
  }
 ],
 "metadata": {
  "kernelspec": {
   "display_name": "Python 3 (ipykernel)",
   "language": "python",
   "name": "python3"
  },
  "language_info": {
   "codemirror_mode": {
    "name": "ipython",
    "version": 3
   },
   "file_extension": ".py",
   "mimetype": "text/x-python",
   "name": "python",
   "nbconvert_exporter": "python",
   "pygments_lexer": "ipython3",
   "version": "3.11.4"
  }
 },
 "nbformat": 4,
 "nbformat_minor": 5
}
